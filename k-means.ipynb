{
 "cells": [
  {
   "cell_type": "markdown",
   "source": [
    "## k-means, k-means++\n",
    "[Теория. Сравнение](https://iq.opengenus.org/k-means-vs-k-means-p/)\n",
    "\n",
    "[Теория sklearn](https://scikit-learn.org/stable/modules/generated/sklearn.cluster.k_means.html)\n",
    "\n",
    "[Теория github](https://sbrouil.github.io/ml-sandbox/MNIST+Kaggle+Digit+clusterization+using+KMeans.html)\n",
    "\n",
    "[MNIST](https://www.kaggle.com/code/ngbolin/mnist-dataset-digit-recognizer/notebook)\n"
   ],
   "metadata": {
    "collapsed": false
   },
   "id": "7fa9d3d4092d1d03"
  },
  {
   "cell_type": "code",
   "execution_count": null,
   "id": "initial_id",
   "metadata": {
    "collapsed": true
   },
   "outputs": [],
   "source": []
  }
 ],
 "metadata": {
  "kernelspec": {
   "display_name": "Python 3",
   "language": "python",
   "name": "python3"
  },
  "language_info": {
   "codemirror_mode": {
    "name": "ipython",
    "version": 2
   },
   "file_extension": ".py",
   "mimetype": "text/x-python",
   "name": "python",
   "nbconvert_exporter": "python",
   "pygments_lexer": "ipython2",
   "version": "2.7.6"
  }
 },
 "nbformat": 4,
 "nbformat_minor": 5
}
