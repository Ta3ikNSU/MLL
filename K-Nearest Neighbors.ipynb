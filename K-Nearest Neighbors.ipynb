{
 "cells": [
  {
   "cell_type": "markdown",
   "source": [
    "## K ближайших соседей\n",
    "[Теория GFG](https://www.geeksforgeeks.org/project-knn-classifying-iris-dataset/)\n",
    "\n",
    "[Теория Хабр](https://habr.com/ru/articles/680004/)\n",
    "\n",
    "[Датасет](https://www.kaggl.com/code/idealisticintj/knn-iris/notebook)\n"
   ],
   "metadata": {
    "collapsed": false
   },
   "id": "22d6384854665cf7"
  },
  {
   "cell_type": "code",
   "execution_count": null,
   "id": "initial_id",
   "metadata": {
    "collapsed": true,
    "ExecuteTime": {
     "end_time": "2024-02-18T17:09:58.342405300Z",
     "start_time": "2024-02-18T17:09:58.331675900Z"
    }
   },
   "outputs": [],
   "source": []
  },
  {
   "cell_type": "code",
   "outputs": [],
   "source": [],
   "metadata": {
    "collapsed": false
   },
   "id": "c1b5b44a2fcedeaf"
  }
 ],
 "metadata": {
  "kernelspec": {
   "display_name": "Python 3",
   "language": "python",
   "name": "python3"
  },
  "language_info": {
   "codemirror_mode": {
    "name": "ipython",
    "version": 2
   },
   "file_extension": ".py",
   "mimetype": "text/x-python",
   "name": "python",
   "nbconvert_exporter": "python",
   "pygments_lexer": "ipython2",
   "version": "2.7.6"
  }
 },
 "nbformat": 4,
 "nbformat_minor": 5
}
