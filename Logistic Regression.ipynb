{
 "cells": [
  {
   "cell_type": "markdown",
   "source": [
    "## Логистическая регрессия\n",
    "[Теория GFG](https://www.geeksforgeeks.org/understanding-logistic-regression/)\n",
    "\n",
    "[Датасет](https://www.kaggle.com/datasets/dragonheir/logistic-regression)\n"
   ],
   "metadata": {
    "collapsed": false
   },
   "id": "8082ebc0e1e6b458"
  },
  {
   "cell_type": "code",
   "execution_count": null,
   "id": "initial_id",
   "metadata": {
    "collapsed": true
   },
   "outputs": [],
   "source": []
  }
 ],
 "metadata": {
  "kernelspec": {
   "display_name": "Python 3",
   "language": "python",
   "name": "python3"
  },
  "language_info": {
   "codemirror_mode": {
    "name": "ipython",
    "version": 2
   },
   "file_extension": ".py",
   "mimetype": "text/x-python",
   "name": "python",
   "nbconvert_exporter": "python",
   "pygments_lexer": "ipython2",
   "version": "2.7.6"
  }
 },
 "nbformat": 4,
 "nbformat_minor": 5
}
