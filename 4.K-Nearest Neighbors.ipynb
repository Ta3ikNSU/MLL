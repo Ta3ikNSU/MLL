{
 "cells": [
  {
   "cell_type": "markdown",
   "source": [
    "## K ближайших соседей\n",
    "[Теория GFG](https://www.geeksforgeeks.org/project-knn-classifying-iris-dataset/)\n",
    "\n",
    "[Теория Хабр](https://habr.com/ru/articles/680004/)\n",
    "\n",
    "[Датасет](https://www.kaggl.com/code/idealisticintj/knn-iris/notebook)\n"
   ],
   "metadata": {
    "collapsed": false
   },
   "id": "22d6384854665cf7"
  },
  {
   "cell_type": "code",
   "outputs": [],
   "source": [
    "import pandas as pd\n",
    "import matplotlib.pyplot as plt\n",
    "import numpy as np\n",
    "from sklearn.linear_model import LinearRegression\n",
    "from sklearn.model_selection import train_test_split"
   ],
   "metadata": {
    "collapsed": false,
    "ExecuteTime": {
     "end_time": "2024-04-05T06:52:14.140812Z",
     "start_time": "2024-04-05T06:52:14.138495Z"
    }
   },
   "id": "ce66513002e4d6ed",
   "execution_count": 2
  },
  {
   "cell_type": "code",
   "outputs": [],
   "source": [
    "data = pd.read_csv(\"resources/KNNAlgorithmDataset.csv\")"
   ],
   "metadata": {
    "collapsed": false,
    "ExecuteTime": {
     "end_time": "2024-04-05T10:00:59.808622Z",
     "start_time": "2024-04-05T10:00:59.794231Z"
    }
   },
   "id": "c7ba677f0ace975b",
   "execution_count": 3
  },
  {
   "cell_type": "code",
   "outputs": [],
   "source": [
    "data.head()"
   ],
   "metadata": {
    "collapsed": false
   },
   "id": "5e16969d60216125"
  },
  {
   "cell_type": "code",
   "outputs": [],
   "source": [
    "data.info()"
   ],
   "metadata": {
    "collapsed": false
   },
   "id": "aac64ed376e866b6"
  },
  {
   "cell_type": "code",
   "outputs": [],
   "source": [
    "data.drop([\"Unnamed: 32\",\"id\"],axis=1,inplace=True)"
   ],
   "metadata": {
    "collapsed": false
   },
   "id": "454291c246369db3"
  },
  {
   "cell_type": "code",
   "outputs": [],
   "source": [
    "data.diagnosis=[1 if each == 'M' else 0 for each in data.diagnosis]"
   ],
   "metadata": {
    "collapsed": false
   },
   "id": "ad55649d9b0d8718"
  }
 ],
 "metadata": {
  "kernelspec": {
   "display_name": "Python 3",
   "language": "python",
   "name": "python3"
  },
  "language_info": {
   "codemirror_mode": {
    "name": "ipython",
    "version": 2
   },
   "file_extension": ".py",
   "mimetype": "text/x-python",
   "name": "python",
   "nbconvert_exporter": "python",
   "pygments_lexer": "ipython2",
   "version": "2.7.6"
  }
 },
 "nbformat": 4,
 "nbformat_minor": 5
}
