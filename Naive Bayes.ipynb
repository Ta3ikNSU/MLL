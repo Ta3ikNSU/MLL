{
 "cells": [
  {
   "cell_type": "markdown",
   "source": [
    "## Наивный Байес\n",
    "[Теория Хабр](https://habr.com/ru/articles/415963/)\n",
    "\n",
    "[Теория sklearn](https://scikit-learn.org/stable/modules/naive_bayes.html)\n",
    "\n",
    "[Датасет](https://www.kaggle.com/code/saurabh1411/naive-bayes-classifier)\n"
   ],
   "metadata": {
    "collapsed": false
   },
   "id": "bdf6dde914791116"
  },
  {
   "cell_type": "code",
   "execution_count": null,
   "id": "initial_id",
   "metadata": {
    "collapsed": true
   },
   "outputs": [],
   "source": []
  }
 ],
 "metadata": {
  "kernelspec": {
   "display_name": "Python 3",
   "language": "python",
   "name": "python3"
  },
  "language_info": {
   "codemirror_mode": {
    "name": "ipython",
    "version": 2
   },
   "file_extension": ".py",
   "mimetype": "text/x-python",
   "name": "python",
   "nbconvert_exporter": "python",
   "pygments_lexer": "ipython2",
   "version": "2.7.6"
  }
 },
 "nbformat": 4,
 "nbformat_minor": 5
}
