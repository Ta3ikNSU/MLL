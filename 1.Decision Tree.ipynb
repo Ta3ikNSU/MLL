{
 "cells": [
  {
   "cell_type": "markdown",
   "source": [
    "## Классификационное дерево  \n",
    "[Теория sklearn](https://scikit-learn.org/stable/modules/tree.html)\n",
    "\n",
    "Датасет: Препарат который был назначен пациенту"
   ],
   "metadata": {
    "collapsed": false
   },
   "id": "e3718d9cb1fdc89a"
  },
  {
   "cell_type": "code",
   "outputs": [
    {
     "name": "stdout",
     "output_type": "stream",
     "text": [
      "Requirement already satisfied: pydotplus in /opt/homebrew/lib/python3.11/site-packages (2.0.2)\r\n",
      "Requirement already satisfied: pyparsing>=2.0.1 in /opt/homebrew/lib/python3.11/site-packages (from pydotplus) (3.1.1)\r\n",
      "\r\n",
      "\u001B[1m[\u001B[0m\u001B[34;49mnotice\u001B[0m\u001B[1;39;49m]\u001B[0m\u001B[39;49m A new release of pip is available: \u001B[0m\u001B[31;49m23.3.2\u001B[0m\u001B[39;49m -> \u001B[0m\u001B[32;49m24.0\u001B[0m\r\n",
      "\u001B[1m[\u001B[0m\u001B[34;49mnotice\u001B[0m\u001B[1;39;49m]\u001B[0m\u001B[39;49m To update, run: \u001B[0m\u001B[32;49mpython3.11 -m pip install --upgrade pip\u001B[0m\r\n"
     ]
    }
   ],
   "source": [
    "# Блок с используемыми библиотеками\n",
    "import matplotlib.pyplot as plt\n",
    "import pandas as pd\n",
    "import seaborn as sns\n",
    "%matplotlib inline\n",
    "\n",
    "from sklearn.model_selection import train_test_split\n",
    "from sklearn.metrics import accuracy_score\n",
    "\n",
    "from sklearn.tree import DecisionTreeClassifier\n",
    "from sklearn.metrics import classification_report\n",
    "\n",
    "from sklearn.preprocessing import LabelEncoder\n",
    "\n",
    "!pip install pydotplus\n",
    "\n",
    "import numpy as np"
   ],
   "metadata": {
    "collapsed": false,
    "ExecuteTime": {
     "end_time": "2024-03-29T14:52:20.174088Z",
     "start_time": "2024-03-29T14:52:18.930139Z"
    }
   },
   "id": "b0400195344ec62d",
   "execution_count": 111
  },
  {
   "cell_type": "code",
   "outputs": [
    {
     "data": {
      "text/plain": "   Age Sex      BP Cholesterol  Na_to_K   Drug\n0   23   F    HIGH        HIGH   25.355  drugY\n1   47   M     LOW        HIGH   13.093  drugC\n2   47   M     LOW        HIGH   10.114  drugC\n3   28   F  NORMAL        HIGH    7.798  drugX\n4   61   F     LOW        HIGH   18.043  drugY",
      "text/html": "<div>\n<style scoped>\n    .dataframe tbody tr th:only-of-type {\n        vertical-align: middle;\n    }\n\n    .dataframe tbody tr th {\n        vertical-align: top;\n    }\n\n    .dataframe thead th {\n        text-align: right;\n    }\n</style>\n<table border=\"1\" class=\"dataframe\">\n  <thead>\n    <tr style=\"text-align: right;\">\n      <th></th>\n      <th>Age</th>\n      <th>Sex</th>\n      <th>BP</th>\n      <th>Cholesterol</th>\n      <th>Na_to_K</th>\n      <th>Drug</th>\n    </tr>\n  </thead>\n  <tbody>\n    <tr>\n      <th>0</th>\n      <td>23</td>\n      <td>F</td>\n      <td>HIGH</td>\n      <td>HIGH</td>\n      <td>25.355</td>\n      <td>drugY</td>\n    </tr>\n    <tr>\n      <th>1</th>\n      <td>47</td>\n      <td>M</td>\n      <td>LOW</td>\n      <td>HIGH</td>\n      <td>13.093</td>\n      <td>drugC</td>\n    </tr>\n    <tr>\n      <th>2</th>\n      <td>47</td>\n      <td>M</td>\n      <td>LOW</td>\n      <td>HIGH</td>\n      <td>10.114</td>\n      <td>drugC</td>\n    </tr>\n    <tr>\n      <th>3</th>\n      <td>28</td>\n      <td>F</td>\n      <td>NORMAL</td>\n      <td>HIGH</td>\n      <td>7.798</td>\n      <td>drugX</td>\n    </tr>\n    <tr>\n      <th>4</th>\n      <td>61</td>\n      <td>F</td>\n      <td>LOW</td>\n      <td>HIGH</td>\n      <td>18.043</td>\n      <td>drugY</td>\n    </tr>\n  </tbody>\n</table>\n</div>"
     },
     "execution_count": 112,
     "metadata": {},
     "output_type": "execute_result"
    }
   ],
   "source": [
    "df = pd.read_csv('resources/decision_tree.csv')\n",
    "df.head()"
   ],
   "metadata": {
    "collapsed": false,
    "ExecuteTime": {
     "end_time": "2024-03-29T14:52:20.182397Z",
     "start_time": "2024-03-29T14:52:20.175379Z"
    }
   },
   "id": "f1496b94af41904f",
   "execution_count": 112
  },
  {
   "cell_type": "code",
   "outputs": [
    {
     "name": "stdout",
     "output_type": "stream",
     "text": [
      "<class 'pandas.core.frame.DataFrame'>\n",
      "RangeIndex: 200 entries, 0 to 199\n",
      "Data columns (total 6 columns):\n",
      " #   Column       Non-Null Count  Dtype  \n",
      "---  ------       --------------  -----  \n",
      " 0   Age          200 non-null    int64  \n",
      " 1   Sex          200 non-null    object \n",
      " 2   BP           200 non-null    object \n",
      " 3   Cholesterol  200 non-null    object \n",
      " 4   Na_to_K      200 non-null    float64\n",
      " 5   Drug         200 non-null    object \n",
      "dtypes: float64(1), int64(1), object(4)\n",
      "memory usage: 9.5+ KB\n"
     ]
    }
   ],
   "source": [
    "df.info()"
   ],
   "metadata": {
    "collapsed": false,
    "ExecuteTime": {
     "end_time": "2024-03-29T14:52:20.187527Z",
     "start_time": "2024-03-29T14:52:20.183088Z"
    }
   },
   "id": "3829ab721864acf4",
   "execution_count": 113
  },
  {
   "cell_type": "code",
   "outputs": [
    {
     "data": {
      "text/plain": "Age            0\nSex            0\nBP             0\nCholesterol    0\nNa_to_K        0\nDrug           0\ndtype: int64"
     },
     "execution_count": 114,
     "metadata": {},
     "output_type": "execute_result"
    }
   ],
   "source": [
    "df.isnull().sum()"
   ],
   "metadata": {
    "collapsed": false,
    "ExecuteTime": {
     "end_time": "2024-03-29T14:52:20.191880Z",
     "start_time": "2024-03-29T14:52:20.189072Z"
    }
   },
   "id": "97a67f2f33b957e4",
   "execution_count": 114
  },
  {
   "cell_type": "code",
   "outputs": [
    {
     "data": {
      "text/plain": "         count       mean        std     min      25%      50%    75%     max\nAge      200.0  44.315000  16.544315  15.000  31.0000  45.0000  58.00  74.000\nNa_to_K  200.0  16.084485   7.223956   6.269  10.4455  13.9365  19.38  38.247",
      "text/html": "<div>\n<style scoped>\n    .dataframe tbody tr th:only-of-type {\n        vertical-align: middle;\n    }\n\n    .dataframe tbody tr th {\n        vertical-align: top;\n    }\n\n    .dataframe thead th {\n        text-align: right;\n    }\n</style>\n<table border=\"1\" class=\"dataframe\">\n  <thead>\n    <tr style=\"text-align: right;\">\n      <th></th>\n      <th>count</th>\n      <th>mean</th>\n      <th>std</th>\n      <th>min</th>\n      <th>25%</th>\n      <th>50%</th>\n      <th>75%</th>\n      <th>max</th>\n    </tr>\n  </thead>\n  <tbody>\n    <tr>\n      <th>Age</th>\n      <td>200.0</td>\n      <td>44.315000</td>\n      <td>16.544315</td>\n      <td>15.000</td>\n      <td>31.0000</td>\n      <td>45.0000</td>\n      <td>58.00</td>\n      <td>74.000</td>\n    </tr>\n    <tr>\n      <th>Na_to_K</th>\n      <td>200.0</td>\n      <td>16.084485</td>\n      <td>7.223956</td>\n      <td>6.269</td>\n      <td>10.4455</td>\n      <td>13.9365</td>\n      <td>19.38</td>\n      <td>38.247</td>\n    </tr>\n  </tbody>\n</table>\n</div>"
     },
     "execution_count": 115,
     "metadata": {},
     "output_type": "execute_result"
    }
   ],
   "source": [
    "df.describe().T"
   ],
   "metadata": {
    "collapsed": false,
    "ExecuteTime": {
     "end_time": "2024-03-29T14:52:20.198980Z",
     "start_time": "2024-03-29T14:52:20.192503Z"
    }
   },
   "id": "a28eb378d120cfca",
   "execution_count": 115
  },
  {
   "cell_type": "code",
   "outputs": [
    {
     "name": "stderr",
     "output_type": "stream",
     "text": [
      "/var/folders/9v/32163wpn1jj2smgt2nq8ypn00000gn/T/ipykernel_61345/1663813180.py:4: FutureWarning: \n",
      "\n",
      "Passing `palette` without assigning `hue` is deprecated and will be removed in v0.14.0. Assign the `x` variable to `hue` and set `legend=False` for the same effect.\n",
      "\n",
      "  sns.countplot(x='Sex', data=df, palette='viridis')\n",
      "/var/folders/9v/32163wpn1jj2smgt2nq8ypn00000gn/T/ipykernel_61345/1663813180.py:8: FutureWarning: \n",
      "\n",
      "Passing `palette` without assigning `hue` is deprecated and will be removed in v0.14.0. Assign the `x` variable to `hue` and set `legend=False` for the same effect.\n",
      "\n",
      "  sns.countplot(x='BP', data=df, palette='viridis')\n",
      "/var/folders/9v/32163wpn1jj2smgt2nq8ypn00000gn/T/ipykernel_61345/1663813180.py:12: FutureWarning: \n",
      "\n",
      "Passing `palette` without assigning `hue` is deprecated and will be removed in v0.14.0. Assign the `x` variable to `hue` and set `legend=False` for the same effect.\n",
      "\n",
      "  sns.countplot(x='Cholesterol', data=df, palette='viridis')\n",
      "/var/folders/9v/32163wpn1jj2smgt2nq8ypn00000gn/T/ipykernel_61345/1663813180.py:16: FutureWarning: \n",
      "\n",
      "Passing `palette` without assigning `hue` is deprecated and will be removed in v0.14.0. Assign the `x` variable to `hue` and set `legend=False` for the same effect.\n",
      "\n",
      "  sns.countplot(x='Drug', data=df, palette='viridis')\n"
     ]
    },
    {
     "data": {
      "text/plain": "<Figure size 800x600 with 4 Axes>",
      "image/png": "[encoded data removed]"
     },
     "metadata": {},
     "output_type": "display_data"
    }
   ],
   "source": [
    "plt.figure(figsize=(8, 6))\n",
    "\n",
    "plt.subplot(3, 3, 1)\n",
    "sns.countplot(x='Sex', data=df, palette='viridis')\n",
    "plt.title('Countplot of Sex')\n",
    "\n",
    "plt.subplot(3, 3, 2)\n",
    "sns.countplot(x='BP', data=df, palette='viridis')\n",
    "plt.title('Countplot of Blood_Pressure')\n",
    "\n",
    "plt.subplot(3, 3, 3)  # Corrected subplot position\n",
    "sns.countplot(x='Cholesterol', data=df, palette='viridis')\n",
    "plt.title('Countplot of Cholesterol')\n",
    "\n",
    "plt.subplot(3, 3, 4)\n",
    "sns.countplot(x='Drug', data=df, palette='viridis')\n",
    "plt.title('Countplot of Drug')\n",
    "\n",
    "plt.tight_layout()\n",
    "plt.show()"
   ],
   "metadata": {
    "collapsed": false,
    "ExecuteTime": {
     "end_time": "2024-03-29T14:52:20.525898Z",
     "start_time": "2024-03-29T14:52:20.199705Z"
    }
   },
   "id": "bd4ed4d8138d4632",
   "execution_count": 116
  },
  {
   "cell_type": "code",
   "outputs": [
    {
     "data": {
      "text/plain": "   Age  Sex  BP  Cholesterol  Na_to_K  Drug\n0   23    0   0            0   25.355     4\n1   47    1   1            0   13.093     2\n2   47    1   1            0   10.114     2\n3   28    0   2            0    7.798     3\n4   61    0   1            0   18.043     4",
      "text/html": "<div>\n<style scoped>\n    .dataframe tbody tr th:only-of-type {\n        vertical-align: middle;\n    }\n\n    .dataframe tbody tr th {\n        vertical-align: top;\n    }\n\n    .dataframe thead th {\n        text-align: right;\n    }\n</style>\n<table border=\"1\" class=\"dataframe\">\n  <thead>\n    <tr style=\"text-align: right;\">\n      <th></th>\n      <th>Age</th>\n      <th>Sex</th>\n      <th>BP</th>\n      <th>Cholesterol</th>\n      <th>Na_to_K</th>\n      <th>Drug</th>\n    </tr>\n  </thead>\n  <tbody>\n    <tr>\n      <th>0</th>\n      <td>23</td>\n      <td>0</td>\n      <td>0</td>\n      <td>0</td>\n      <td>25.355</td>\n      <td>4</td>\n    </tr>\n    <tr>\n      <th>1</th>\n      <td>47</td>\n      <td>1</td>\n      <td>1</td>\n      <td>0</td>\n      <td>13.093</td>\n      <td>2</td>\n    </tr>\n    <tr>\n      <th>2</th>\n      <td>47</td>\n      <td>1</td>\n      <td>1</td>\n      <td>0</td>\n      <td>10.114</td>\n      <td>2</td>\n    </tr>\n    <tr>\n      <th>3</th>\n      <td>28</td>\n      <td>0</td>\n      <td>2</td>\n      <td>0</td>\n      <td>7.798</td>\n      <td>3</td>\n    </tr>\n    <tr>\n      <th>4</th>\n      <td>61</td>\n      <td>0</td>\n      <td>1</td>\n      <td>0</td>\n      <td>18.043</td>\n      <td>4</td>\n    </tr>\n  </tbody>\n</table>\n</div>"
     },
     "execution_count": 117,
     "metadata": {},
     "output_type": "execute_result"
    }
   ],
   "source": [
    "transform = df\n",
    "le_sex = LabelEncoder()\n",
    "le_BP = LabelEncoder()\n",
    "le_cholesterol = LabelEncoder()\n",
    "transform['Sex'] = le_sex.fit_transform(transform['Sex'])\n",
    "transform['BP'] = le_BP.fit_transform(transform['BP'])\n",
    "transform['Cholesterol'] = le_cholesterol.fit_transform(transform['Cholesterol'])\n",
    "transform['Drug'] = le_cholesterol.fit_transform(transform['Drug'])\n",
    "transform.head()"
   ],
   "metadata": {
    "collapsed": false,
    "ExecuteTime": {
     "end_time": "2024-03-29T14:52:20.532903Z",
     "start_time": "2024-03-29T14:52:20.526606Z"
    }
   },
   "id": "e5face01aeca54b7",
   "execution_count": 117
  },
  {
   "cell_type": "code",
   "outputs": [
    {
     "name": "stdout",
     "output_type": "stream",
     "text": [
      "<class 'pandas.core.frame.DataFrame'>\n",
      "RangeIndex: 200 entries, 0 to 199\n",
      "Data columns (total 5 columns):\n",
      " #   Column       Non-Null Count  Dtype  \n",
      "---  ------       --------------  -----  \n",
      " 0   Age          200 non-null    int64  \n",
      " 1   Sex          200 non-null    int64  \n",
      " 2   BP           200 non-null    int64  \n",
      " 3   Cholesterol  200 non-null    int64  \n",
      " 4   Na_to_K      200 non-null    float64\n",
      "dtypes: float64(1), int64(4)\n",
      "memory usage: 7.9 KB\n"
     ]
    }
   ],
   "source": [
    "X = df.iloc[:, :-1]\n",
    "y = df.iloc[:, -1]\n",
    "le_sex = LabelEncoder()\n",
    "le_BP = LabelEncoder()\n",
    "le_cholesterol = LabelEncoder()\n",
    "X['Sex'] = le_sex.fit_transform(X['Sex'])\n",
    "X['BP'] = le_BP.fit_transform(X['BP'])\n",
    "X['Cholesterol'] = le_cholesterol.fit_transform(X['Cholesterol'])\n",
    "X['Cholesterol'] = le_cholesterol.fit_transform(X['Cholesterol'])\n",
    "X.info()"
   ],
   "metadata": {
    "collapsed": false,
    "ExecuteTime": {
     "end_time": "2024-03-29T14:52:20.539883Z",
     "start_time": "2024-03-29T14:52:20.534760Z"
    }
   },
   "id": "fd0243d1e3fecb68",
   "execution_count": 118
  },
  {
   "cell_type": "code",
   "outputs": [],
   "source": [
    "X_train, X_test, y_train, y_test = train_test_split(X, y, test_size=0.3, random_state=42)"
   ],
   "metadata": {
    "collapsed": false,
    "ExecuteTime": {
     "end_time": "2024-03-29T14:52:20.544445Z",
     "start_time": "2024-03-29T14:52:20.540742Z"
    }
   },
   "id": "93ba910abc9ef3ed",
   "execution_count": 119
  },
  {
   "cell_type": "code",
   "outputs": [
    {
     "data": {
      "text/plain": "DecisionTreeClassifier(max_depth=3, min_samples_leaf=10, random_state=1)",
      "text/html": "<style>#sk-container-id-6 {color: black;}#sk-container-id-6 pre{padding: 0;}#sk-container-id-6 div.sk-toggleable {background-color: white;}#sk-container-id-6 label.sk-toggleable__label {cursor: pointer;display: block;width: 100%;margin-bottom: 0;padding: 0.3em;box-sizing: border-box;text-align: center;}#sk-container-id-6 label.sk-toggleable__label-arrow:before {content: \"▸\";float: left;margin-right: 0.25em;color: #696969;}#sk-container-id-6 label.sk-toggleable__label-arrow:hover:before {color: black;}#sk-container-id-6 div.sk-estimator:hover label.sk-toggleable__label-arrow:before {color: black;}#sk-container-id-6 div.sk-toggleable__content {max-height: 0;max-width: 0;overflow: hidden;text-align: left;background-color: #f0f8ff;}#sk-container-id-6 div.sk-toggleable__content pre {margin: 0.2em;color: black;border-radius: 0.25em;background-color: #f0f8ff;}#sk-container-id-6 input.sk-toggleable__control:checked~div.sk-toggleable__content {max-height: 200px;max-width: 100%;overflow: auto;}#sk-container-id-6 input.sk-toggleable__control:checked~label.sk-toggleable__label-arrow:before {content: \"▾\";}#sk-container-id-6 div.sk-estimator input.sk-toggleable__control:checked~label.sk-toggleable__label {background-color: #d4ebff;}#sk-container-id-6 div.sk-label input.sk-toggleable__control:checked~label.sk-toggleable__label {background-color: #d4ebff;}#sk-container-id-6 input.sk-hidden--visually {border: 0;clip: rect(1px 1px 1px 1px);clip: rect(1px, 1px, 1px, 1px);height: 1px;margin: -1px;overflow: hidden;padding: 0;position: absolute;width: 1px;}#sk-container-id-6 div.sk-estimator {font-family: monospace;background-color: #f0f8ff;border: 1px dotted black;border-radius: 0.25em;box-sizing: border-box;margin-bottom: 0.5em;}#sk-container-id-6 div.sk-estimator:hover {background-color: #d4ebff;}#sk-container-id-6 div.sk-parallel-item::after {content: \"\";width: 100%;border-bottom: 1px solid gray;flex-grow: 1;}#sk-container-id-6 div.sk-label:hover label.sk-toggleable__label {background-color: #d4ebff;}#sk-container-id-6 div.sk-serial::before {content: \"\";position: absolute;border-left: 1px solid gray;box-sizing: border-box;top: 0;bottom: 0;left: 50%;z-index: 0;}#sk-container-id-6 div.sk-serial {display: flex;flex-direction: column;align-items: center;background-color: white;padding-right: 0.2em;padding-left: 0.2em;position: relative;}#sk-container-id-6 div.sk-item {position: relative;z-index: 1;}#sk-container-id-6 div.sk-parallel {display: flex;align-items: stretch;justify-content: center;background-color: white;position: relative;}#sk-container-id-6 div.sk-item::before, #sk-container-id-6 div.sk-parallel-item::before {content: \"\";position: absolute;border-left: 1px solid gray;box-sizing: border-box;top: 0;bottom: 0;left: 50%;z-index: -1;}#sk-container-id-6 div.sk-parallel-item {display: flex;flex-direction: column;z-index: 1;position: relative;background-color: white;}#sk-container-id-6 div.sk-parallel-item:first-child::after {align-self: flex-end;width: 50%;}#sk-container-id-6 div.sk-parallel-item:last-child::after {align-self: flex-start;width: 50%;}#sk-container-id-6 div.sk-parallel-item:only-child::after {width: 0;}#sk-container-id-6 div.sk-dashed-wrapped {border: 1px dashed gray;margin: 0 0.4em 0.5em 0.4em;box-sizing: border-box;padding-bottom: 0.4em;background-color: white;}#sk-container-id-6 div.sk-label label {font-family: monospace;font-weight: bold;display: inline-block;line-height: 1.2em;}#sk-container-id-6 div.sk-label-container {text-align: center;}#sk-container-id-6 div.sk-container {/* jupyter's `normalize.less` sets `[hidden] { display: none; }` but bootstrap.min.css set `[hidden] { display: none !important; }` so we also need the `!important` here to be able to override the default hidden behavior on the sphinx rendered scikit-learn.org. See: https://github.com/scikit-learn/scikit-learn/issues/21755 */display: inline-block !important;position: relative;}#sk-container-id-6 div.sk-text-repr-fallback {display: none;}</style><div id=\"sk-container-id-6\" class=\"sk-top-container\"><div class=\"sk-text-repr-fallback\"><pre>DecisionTreeClassifier(max_depth=3, min_samples_leaf=10, random_state=1)</pre><b>In a Jupyter environment, please rerun this cell to show the HTML representation or trust the notebook. <br />On GitHub, the HTML representation is unable to render, please try loading this page with nbviewer.org.</b></div><div class=\"sk-container\" hidden><div class=\"sk-item\"><div class=\"sk-estimator sk-toggleable\"><input class=\"sk-toggleable__control sk-hidden--visually\" id=\"sk-estimator-id-6\" type=\"checkbox\" checked><label for=\"sk-estimator-id-6\" class=\"sk-toggleable__label sk-toggleable__label-arrow\">DecisionTreeClassifier</label><div class=\"sk-toggleable__content\"><pre>DecisionTreeClassifier(max_depth=3, min_samples_leaf=10, random_state=1)</pre></div></div></div></div></div>"
     },
     "execution_count": 120,
     "metadata": {},
     "output_type": "execute_result"
    }
   ],
   "source": [
    "dt = DecisionTreeClassifier(max_depth=3, min_samples_leaf=10, random_state=1)\n",
    "dt.fit(X, y)"
   ],
   "metadata": {
    "collapsed": false,
    "ExecuteTime": {
     "end_time": "2024-03-29T14:52:20.550784Z",
     "start_time": "2024-03-29T14:52:20.546475Z"
    }
   },
   "id": "809a16e95c30d973",
   "execution_count": 120
  },
  {
   "cell_type": "code",
   "outputs": [
    {
     "ename": "TypeError",
     "evalue": "can only concatenate str (not \"numpy.int64\") to str",
     "output_type": "error",
     "traceback": [
      "\u001B[0;31m---------------------------------------------------------------------------\u001B[0m",
      "\u001B[0;31mTypeError\u001B[0m                                 Traceback (most recent call last)",
      "Cell \u001B[0;32mIn[121], line 5\u001B[0m\n\u001B[1;32m      3\u001B[0m unique_classes \u001B[38;5;241m=\u001B[39m np\u001B[38;5;241m.\u001B[39munique(y_train)\n\u001B[1;32m      4\u001B[0m plt\u001B[38;5;241m.\u001B[39mfigure(figsize\u001B[38;5;241m=\u001B[39m(\u001B[38;5;241m20\u001B[39m, \u001B[38;5;241m10\u001B[39m))\n\u001B[0;32m----> 5\u001B[0m \u001B[43mplot_tree\u001B[49m\u001B[43m(\u001B[49m\u001B[43mdt\u001B[49m\u001B[43m,\u001B[49m\u001B[43m \u001B[49m\u001B[43mclass_names\u001B[49m\u001B[38;5;241;43m=\u001B[39;49m\u001B[43munique_classes\u001B[49m\u001B[43m,\u001B[49m\u001B[43m \u001B[49m\u001B[43mfilled\u001B[49m\u001B[38;5;241;43m=\u001B[39;49m\u001B[38;5;28;43;01mTrue\u001B[39;49;00m\u001B[43m)\u001B[49m\n\u001B[1;32m      6\u001B[0m plt\u001B[38;5;241m.\u001B[39mshow()\n",
      "File \u001B[0;32m/opt/homebrew/lib/python3.11/site-packages/sklearn/utils/_param_validation.py:214\u001B[0m, in \u001B[0;36mvalidate_params.<locals>.decorator.<locals>.wrapper\u001B[0;34m(*args, **kwargs)\u001B[0m\n\u001B[1;32m    208\u001B[0m \u001B[38;5;28;01mtry\u001B[39;00m:\n\u001B[1;32m    209\u001B[0m     \u001B[38;5;28;01mwith\u001B[39;00m config_context(\n\u001B[1;32m    210\u001B[0m         skip_parameter_validation\u001B[38;5;241m=\u001B[39m(\n\u001B[1;32m    211\u001B[0m             prefer_skip_nested_validation \u001B[38;5;129;01mor\u001B[39;00m global_skip_validation\n\u001B[1;32m    212\u001B[0m         )\n\u001B[1;32m    213\u001B[0m     ):\n\u001B[0;32m--> 214\u001B[0m         \u001B[38;5;28;01mreturn\u001B[39;00m \u001B[43mfunc\u001B[49m\u001B[43m(\u001B[49m\u001B[38;5;241;43m*\u001B[39;49m\u001B[43margs\u001B[49m\u001B[43m,\u001B[49m\u001B[43m \u001B[49m\u001B[38;5;241;43m*\u001B[39;49m\u001B[38;5;241;43m*\u001B[39;49m\u001B[43mkwargs\u001B[49m\u001B[43m)\u001B[49m\n\u001B[1;32m    215\u001B[0m \u001B[38;5;28;01mexcept\u001B[39;00m InvalidParameterError \u001B[38;5;28;01mas\u001B[39;00m e:\n\u001B[1;32m    216\u001B[0m     \u001B[38;5;66;03m# When the function is just a wrapper around an estimator, we allow\u001B[39;00m\n\u001B[1;32m    217\u001B[0m     \u001B[38;5;66;03m# the function to delegate validation to the estimator, but we replace\u001B[39;00m\n\u001B[1;32m    218\u001B[0m     \u001B[38;5;66;03m# the name of the estimator by the name of the function in the error\u001B[39;00m\n\u001B[1;32m    219\u001B[0m     \u001B[38;5;66;03m# message to avoid confusion.\u001B[39;00m\n\u001B[1;32m    220\u001B[0m     msg \u001B[38;5;241m=\u001B[39m re\u001B[38;5;241m.\u001B[39msub(\n\u001B[1;32m    221\u001B[0m         \u001B[38;5;124mr\u001B[39m\u001B[38;5;124m\"\u001B[39m\u001B[38;5;124mparameter of \u001B[39m\u001B[38;5;124m\\\u001B[39m\u001B[38;5;124mw+ must be\u001B[39m\u001B[38;5;124m\"\u001B[39m,\n\u001B[1;32m    222\u001B[0m         \u001B[38;5;124mf\u001B[39m\u001B[38;5;124m\"\u001B[39m\u001B[38;5;124mparameter of \u001B[39m\u001B[38;5;132;01m{\u001B[39;00mfunc\u001B[38;5;241m.\u001B[39m\u001B[38;5;18m__qualname__\u001B[39m\u001B[38;5;132;01m}\u001B[39;00m\u001B[38;5;124m must be\u001B[39m\u001B[38;5;124m\"\u001B[39m,\n\u001B[1;32m    223\u001B[0m         \u001B[38;5;28mstr\u001B[39m(e),\n\u001B[1;32m    224\u001B[0m     )\n",
      "File \u001B[0;32m/opt/homebrew/lib/python3.11/site-packages/sklearn/tree/_export.py:211\u001B[0m, in \u001B[0;36mplot_tree\u001B[0;34m(decision_tree, max_depth, feature_names, class_names, label, filled, impurity, node_ids, proportion, rounded, precision, ax, fontsize)\u001B[0m\n\u001B[1;32m    196\u001B[0m check_is_fitted(decision_tree)\n\u001B[1;32m    198\u001B[0m exporter \u001B[38;5;241m=\u001B[39m _MPLTreeExporter(\n\u001B[1;32m    199\u001B[0m     max_depth\u001B[38;5;241m=\u001B[39mmax_depth,\n\u001B[1;32m    200\u001B[0m     feature_names\u001B[38;5;241m=\u001B[39mfeature_names,\n\u001B[0;32m   (...)\u001B[0m\n\u001B[1;32m    209\u001B[0m     fontsize\u001B[38;5;241m=\u001B[39mfontsize,\n\u001B[1;32m    210\u001B[0m )\n\u001B[0;32m--> 211\u001B[0m \u001B[38;5;28;01mreturn\u001B[39;00m \u001B[43mexporter\u001B[49m\u001B[38;5;241;43m.\u001B[39;49m\u001B[43mexport\u001B[49m\u001B[43m(\u001B[49m\u001B[43mdecision_tree\u001B[49m\u001B[43m,\u001B[49m\u001B[43m \u001B[49m\u001B[43max\u001B[49m\u001B[38;5;241;43m=\u001B[39;49m\u001B[43max\u001B[49m\u001B[43m)\u001B[49m\n",
      "File \u001B[0;32m/opt/homebrew/lib/python3.11/site-packages/sklearn/tree/_export.py:643\u001B[0m, in \u001B[0;36m_MPLTreeExporter.export\u001B[0;34m(self, decision_tree, ax)\u001B[0m\n\u001B[1;32m    641\u001B[0m ax\u001B[38;5;241m.\u001B[39mclear()\n\u001B[1;32m    642\u001B[0m ax\u001B[38;5;241m.\u001B[39mset_axis_off()\n\u001B[0;32m--> 643\u001B[0m my_tree \u001B[38;5;241m=\u001B[39m \u001B[38;5;28;43mself\u001B[39;49m\u001B[38;5;241;43m.\u001B[39;49m\u001B[43m_make_tree\u001B[49m\u001B[43m(\u001B[49m\u001B[38;5;241;43m0\u001B[39;49m\u001B[43m,\u001B[49m\u001B[43m \u001B[49m\u001B[43mdecision_tree\u001B[49m\u001B[38;5;241;43m.\u001B[39;49m\u001B[43mtree_\u001B[49m\u001B[43m,\u001B[49m\u001B[43m \u001B[49m\u001B[43mdecision_tree\u001B[49m\u001B[38;5;241;43m.\u001B[39;49m\u001B[43mcriterion\u001B[49m\u001B[43m)\u001B[49m\n\u001B[1;32m    644\u001B[0m draw_tree \u001B[38;5;241m=\u001B[39m buchheim(my_tree)\n\u001B[1;32m    646\u001B[0m \u001B[38;5;66;03m# important to make sure we're still\u001B[39;00m\n\u001B[1;32m    647\u001B[0m \u001B[38;5;66;03m# inside the axis after drawing the box\u001B[39;00m\n\u001B[1;32m    648\u001B[0m \u001B[38;5;66;03m# this makes sense because the width of a box\u001B[39;00m\n\u001B[1;32m    649\u001B[0m \u001B[38;5;66;03m# is about the same as the distance between boxes\u001B[39;00m\n",
      "File \u001B[0;32m/opt/homebrew/lib/python3.11/site-packages/sklearn/tree/_export.py:619\u001B[0m, in \u001B[0;36m_MPLTreeExporter._make_tree\u001B[0;34m(self, node_id, et, criterion, depth)\u001B[0m\n\u001B[1;32m    616\u001B[0m \u001B[38;5;28;01mdef\u001B[39;00m \u001B[38;5;21m_make_tree\u001B[39m(\u001B[38;5;28mself\u001B[39m, node_id, et, criterion, depth\u001B[38;5;241m=\u001B[39m\u001B[38;5;241m0\u001B[39m):\n\u001B[1;32m    617\u001B[0m     \u001B[38;5;66;03m# traverses _tree.Tree recursively, builds intermediate\u001B[39;00m\n\u001B[1;32m    618\u001B[0m     \u001B[38;5;66;03m# \"_reingold_tilford.Tree\" object\u001B[39;00m\n\u001B[0;32m--> 619\u001B[0m     name \u001B[38;5;241m=\u001B[39m \u001B[38;5;28;43mself\u001B[39;49m\u001B[38;5;241;43m.\u001B[39;49m\u001B[43mnode_to_str\u001B[49m\u001B[43m(\u001B[49m\u001B[43met\u001B[49m\u001B[43m,\u001B[49m\u001B[43m \u001B[49m\u001B[43mnode_id\u001B[49m\u001B[43m,\u001B[49m\u001B[43m \u001B[49m\u001B[43mcriterion\u001B[49m\u001B[38;5;241;43m=\u001B[39;49m\u001B[43mcriterion\u001B[49m\u001B[43m)\u001B[49m\n\u001B[1;32m    620\u001B[0m     \u001B[38;5;28;01mif\u001B[39;00m et\u001B[38;5;241m.\u001B[39mchildren_left[node_id] \u001B[38;5;241m!=\u001B[39m _tree\u001B[38;5;241m.\u001B[39mTREE_LEAF \u001B[38;5;129;01mand\u001B[39;00m (\n\u001B[1;32m    621\u001B[0m         \u001B[38;5;28mself\u001B[39m\u001B[38;5;241m.\u001B[39mmax_depth \u001B[38;5;129;01mis\u001B[39;00m \u001B[38;5;28;01mNone\u001B[39;00m \u001B[38;5;129;01mor\u001B[39;00m depth \u001B[38;5;241m<\u001B[39m\u001B[38;5;241m=\u001B[39m \u001B[38;5;28mself\u001B[39m\u001B[38;5;241m.\u001B[39mmax_depth\n\u001B[1;32m    622\u001B[0m     ):\n\u001B[1;32m    623\u001B[0m         children \u001B[38;5;241m=\u001B[39m [\n\u001B[1;32m    624\u001B[0m             \u001B[38;5;28mself\u001B[39m\u001B[38;5;241m.\u001B[39m_make_tree(\n\u001B[1;32m    625\u001B[0m                 et\u001B[38;5;241m.\u001B[39mchildren_left[node_id], et, criterion, depth\u001B[38;5;241m=\u001B[39mdepth \u001B[38;5;241m+\u001B[39m \u001B[38;5;241m1\u001B[39m\n\u001B[0;32m   (...)\u001B[0m\n\u001B[1;32m    629\u001B[0m             ),\n\u001B[1;32m    630\u001B[0m         ]\n",
      "File \u001B[0;32m/opt/homebrew/lib/python3.11/site-packages/sklearn/tree/_export.py:392\u001B[0m, in \u001B[0;36m_BaseTreeExporter.node_to_str\u001B[0;34m(self, tree, node_id, criterion)\u001B[0m\n\u001B[1;32m    386\u001B[0m     \u001B[38;5;28;01melse\u001B[39;00m:\n\u001B[1;32m    387\u001B[0m         class_name \u001B[38;5;241m=\u001B[39m \u001B[38;5;124m\"\u001B[39m\u001B[38;5;124my\u001B[39m\u001B[38;5;132;01m%s\u001B[39;00m\u001B[38;5;132;01m%s\u001B[39;00m\u001B[38;5;132;01m%s\u001B[39;00m\u001B[38;5;124m\"\u001B[39m \u001B[38;5;241m%\u001B[39m (\n\u001B[1;32m    388\u001B[0m             characters[\u001B[38;5;241m1\u001B[39m],\n\u001B[1;32m    389\u001B[0m             np\u001B[38;5;241m.\u001B[39margmax(value),\n\u001B[1;32m    390\u001B[0m             characters[\u001B[38;5;241m2\u001B[39m],\n\u001B[1;32m    391\u001B[0m         )\n\u001B[0;32m--> 392\u001B[0m     \u001B[43mnode_string\u001B[49m\u001B[43m \u001B[49m\u001B[38;5;241;43m+\u001B[39;49m\u001B[38;5;241;43m=\u001B[39;49m\u001B[43m \u001B[49m\u001B[43mclass_name\u001B[49m\n\u001B[1;32m    394\u001B[0m \u001B[38;5;66;03m# Clean up any trailing newlines\u001B[39;00m\n\u001B[1;32m    395\u001B[0m \u001B[38;5;28;01mif\u001B[39;00m node_string\u001B[38;5;241m.\u001B[39mendswith(characters[\u001B[38;5;241m4\u001B[39m]):\n",
      "\u001B[0;31mTypeError\u001B[0m: can only concatenate str (not \"numpy.int64\") to str"
     ]
    },
    {
     "data": {
      "text/plain": "<Figure size 2000x1000 with 1 Axes>",
      "image/png": "[encoded data removed]"
     },
     "metadata": {},
     "output_type": "display_data"
    }
   ],
   "source": [
    "from sklearn.tree import plot_tree\n",
    "\n",
    "unique_classes = np.unique(y_train)\n",
    "plt.figure(figsize=(20, 10))\n",
    "plot_tree(dt, class_names=unique_classes, filled=True)\n",
    "plt.show()"
   ],
   "metadata": {
    "collapsed": false,
    "ExecuteTime": {
     "end_time": "2024-03-29T14:52:20.727363Z",
     "start_time": "2024-03-29T14:52:20.551402Z"
    }
   },
   "id": "bde04d5a1ee3d2d4",
   "execution_count": 121
  },
  {
   "cell_type": "code",
   "outputs": [],
   "source": [
    "dt = DecisionTreeClassifier(random_state=1)\n",
    "dt.fit(X_train, y_train)\n",
    "\n",
    "y_pred_train = dt.predict(X_train)\n",
    "y_pred = dt.predict(X_test)\n",
    "y_prob = dt.predict_proba(X_test)"
   ],
   "metadata": {
    "collapsed": false
   },
   "id": "f244aafd816a13c2"
  },
  {
   "cell_type": "code",
   "outputs": [],
   "source": [
    "print('Accuracy of Decision Tree-Train: ', accuracy_score(y_pred_train, y_train))\n",
    "print('Accuracy of Decision Tree-Test: ', accuracy_score(y_pred, y_test))"
   ],
   "metadata": {
    "collapsed": false
   },
   "id": "47a4c2127e3615be"
  },
  {
   "cell_type": "code",
   "outputs": [],
   "source": [
    "print(classification_report(y_test, y_pred))"
   ],
   "metadata": {
    "collapsed": false
   },
   "id": "3f5d3317087c33fb"
  }
 ],
 "metadata": {
  "kernelspec": {
   "display_name": "Python 3",
   "language": "python",
   "name": "python3"
  },
  "language_info": {
   "codemirror_mode": {
    "name": "ipython",
    "version": 2
   },
   "file_extension": ".py",
   "mimetype": "text/x-python",
   "name": "python",
   "nbconvert_exporter": "python",
   "pygments_lexer": "ipython2",
   "version": "2.7.6"
  }
 },
 "nbformat": 4,
 "nbformat_minor": 5
}
