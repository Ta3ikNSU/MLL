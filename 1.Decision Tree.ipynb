{
 "cells": [
  {
   "cell_type": "markdown",
   "source": [
    "## Классификационное дерево  \n",
    "[Теория sklearn](https://scikit-learn.org/stable/modules/tree.html)\n",
    "\n",
    "Датасет: Препарат который был назначен пациенту"
   ],
   "metadata": {
    "collapsed": false
   },
   "id": "e3718d9cb1fdc89a"
  },
  {
   "cell_type": "code",
   "outputs": [],
   "source": [
    "# Блок с используемыми библиотеками\n",
    "import matplotlib.pyplot as plt\n",
    "import pandas as pd\n",
    "import seaborn as sns\n",
    "%matplotlib inline\n",
    "\n",
    "from sklearn.model_selection import train_test_split\n",
    "from sklearn.metrics import accuracy_score\n",
    "\n",
    "from sklearn.tree import DecisionTreeClassifier\n",
    "from sklearn.metrics import classification_report\n",
    "\n",
    "from sklearn.preprocessing import LabelEncoder\n",
    "\n",
    "!pip install pydotplus\n",
    "\n",
    "import numpy as np"
   ],
   "metadata": {
    "collapsed": false
   },
   "id": "b0400195344ec62d"
  },
  {
   "cell_type": "code",
   "outputs": [],
   "source": [
    "df = pd.read_csv('resources/decision_tree.csv')\n",
    "df.head()"
   ],
   "metadata": {
    "collapsed": false
   },
   "id": "f1496b94af41904f"
  },
  {
   "cell_type": "code",
   "outputs": [],
   "source": [
    "df.info()"
   ],
   "metadata": {
    "collapsed": false
   },
   "id": "3829ab721864acf4"
  },
  {
   "cell_type": "code",
   "outputs": [],
   "source": [
    "df.isnull().sum()"
   ],
   "metadata": {
    "collapsed": false
   },
   "id": "97a67f2f33b957e4"
  },
  {
   "cell_type": "code",
   "outputs": [],
   "source": [
    "df.describe().T"
   ],
   "metadata": {
    "collapsed": false
   },
   "id": "a28eb378d120cfca"
  },
  {
   "cell_type": "code",
   "outputs": [],
   "source": [
    "plt.figure(figsize=(8, 6))\n",
    "\n",
    "plt.subplot(3, 3, 1)\n",
    "sns.countplot(x='Sex', data=df, palette='viridis')\n",
    "plt.title('Countplot of Sex')\n",
    "\n",
    "plt.subplot(3, 3, 2)\n",
    "sns.countplot(x='BP', data=df, palette='viridis')\n",
    "plt.title('Countplot of Blood_Pressure')\n",
    "\n",
    "plt.subplot(3, 3, 3)  # Corrected subplot position\n",
    "sns.countplot(x='Cholesterol', data=df, palette='viridis')\n",
    "plt.title('Countplot of Cholesterol')\n",
    "\n",
    "plt.subplot(3, 3, 4)\n",
    "sns.countplot(x='Drug', data=df, palette='viridis')\n",
    "plt.title('Countplot of Drug')\n",
    "\n",
    "plt.tight_layout()\n",
    "plt.show()"
   ],
   "metadata": {
    "collapsed": false
   },
   "id": "bd4ed4d8138d4632"
  },
  {
   "cell_type": "code",
   "outputs": [],
   "source": [
    "transform = df\n",
    "le_sex = LabelEncoder()\n",
    "le_BP = LabelEncoder()\n",
    "le_cholesterol = LabelEncoder()\n",
    "transform['Sex'] = le_sex.fit_transform(transform['Sex'])\n",
    "transform['BP'] = le_BP.fit_transform(transform['BP'])\n",
    "transform['Cholesterol'] = le_cholesterol.fit_transform(transform['Cholesterol'])\n",
    "transform['Drug'] = le_cholesterol.fit_transform(transform['Drug'])\n",
    "transform.head()"
   ],
   "metadata": {
    "collapsed": false
   },
   "id": "e5face01aeca54b7"
  },
  {
   "cell_type": "code",
   "outputs": [],
   "source": [
    "X = df.iloc[:, :-1]\n",
    "y = df.iloc[:, -1]\n",
    "le_sex = LabelEncoder()\n",
    "le_BP = LabelEncoder()\n",
    "le_cholesterol = LabelEncoder()\n",
    "X['Sex'] = le_sex.fit_transform(X['Sex'])\n",
    "X['BP'] = le_BP.fit_transform(X['BP'])\n",
    "X['Cholesterol'] = le_cholesterol.fit_transform(X['Cholesterol'])\n",
    "X['Cholesterol'] = le_cholesterol.fit_transform(X['Cholesterol'])\n",
    "X.info()"
   ],
   "metadata": {
    "collapsed": false
   },
   "id": "fd0243d1e3fecb68"
  },
  {
   "cell_type": "code",
   "outputs": [],
   "source": [
    "X_train, X_test, y_train, y_test = train_test_split(X, y, test_size=0.3, random_state=42)"
   ],
   "metadata": {
    "collapsed": false
   },
   "id": "93ba910abc9ef3ed"
  },
  {
   "cell_type": "code",
   "outputs": [],
   "source": [
    "dt = DecisionTreeClassifier(max_depth=3, min_samples_leaf=10, random_state=1)\n",
    "dt.fit(X, y)"
   ],
   "metadata": {
    "collapsed": false
   },
   "id": "809a16e95c30d973"
  },
  {
   "cell_type": "code",
   "outputs": [],
   "source": [
    "from sklearn.tree import plot_tree\n",
    "\n",
    "unique_classes = np.unique(y_train)\n",
    "plt.figure(figsize=(20, 10))\n",
    "plot_tree(dt, class_names=unique_classes, filled=True)\n",
    "plt.show()"
   ],
   "metadata": {
    "collapsed": false
   },
   "id": "bde04d5a1ee3d2d4"
  },
  {
   "cell_type": "code",
   "outputs": [],
   "source": [
    "dt = DecisionTreeClassifier(random_state=1)\n",
    "dt.fit(X_train, y_train)\n",
    "\n",
    "y_pred_train = dt.predict(X_train)\n",
    "y_pred = dt.predict(X_test)\n",
    "y_prob = dt.predict_proba(X_test)"
   ],
   "metadata": {
    "collapsed": false
   },
   "id": "f244aafd816a13c2"
  },
  {
   "cell_type": "code",
   "outputs": [],
   "source": [
    "print('Accuracy of Decision Tree-Train: ', accuracy_score(y_pred_train, y_train))\n",
    "print('Accuracy of Decision Tree-Test: ', accuracy_score(y_pred, y_test))"
   ],
   "metadata": {
    "collapsed": false
   },
   "id": "47a4c2127e3615be"
  },
  {
   "cell_type": "code",
   "outputs": [],
   "source": [
    "print(classification_report(y_test, y_pred))"
   ],
   "metadata": {
    "collapsed": false
   },
   "id": "3f5d3317087c33fb"
  }
 ],
 "metadata": {
  "kernelspec": {
   "display_name": "Python 3",
   "language": "python",
   "name": "python3"
  },
  "language_info": {
   "codemirror_mode": {
    "name": "ipython",
    "version": 2
   },
   "file_extension": ".py",
   "mimetype": "text/x-python",
   "name": "python",
   "nbconvert_exporter": "python",
   "pygments_lexer": "ipython2",
   "version": "2.7.6"
  }
 },
 "nbformat": 4,
 "nbformat_minor": 5
}
