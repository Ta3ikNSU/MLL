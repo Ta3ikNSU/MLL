{
 "cells": [
  {
   "cell_type": "markdown",
   "source": [
    "## Классификационное дерево  \n",
    "[Теория sklearn](https://scikit-learn.org/stable/modules/tree.html)"
   ],
   "metadata": {
    "collapsed": false
   },
   "id": "cc559bad077cacaf"
  },
  {
   "cell_type": "code",
   "outputs": [],
   "source": [
    "# Блок с используемыми библиотеками\n",
    "import matplotlib.pyplot as plt\n",
    "import pandas as pd\n",
    "import seaborn as sns\n",
    "\n",
    "%matplotlib inline\n",
    "\n",
    "from sklearn import datasets\n",
    "from sklearn.model_selection import train_test_split\n",
    "from sklearn.metrics import accuracy_score\n",
    "\n",
    "from sklearn.tree import DecisionTreeClassifier\n",
    "from sklearn.tree import plot_tree\n",
    "from sklearn.metrics import classification_report\n",
    "from pandas import DataFrame"
   ],
   "metadata": {
    "collapsed": false
   },
   "id": "40761814a6575e1e"
  },
  {
   "cell_type": "code",
   "outputs": [],
   "source": [
    "iris = datasets.load_iris()\n",
    "df = DataFrame(iris.data, columns=iris.feature_names)\n",
    "df['Species'] = iris.target\n",
    "df.head()"
   ],
   "metadata": {
    "collapsed": false
   },
   "id": "ed07e0011ae49ba4"
  },
  {
   "cell_type": "code",
   "outputs": [],
   "source": [
    "df.info()"
   ],
   "metadata": {
    "collapsed": false
   },
   "id": "adf235086b3d08eb"
  },
  {
   "cell_type": "code",
   "outputs": [],
   "source": [
    "df.isnull().sum()"
   ],
   "metadata": {
    "collapsed": false
   },
   "id": "9cfdbde222ca8b63"
  },
  {
   "cell_type": "code",
   "outputs": [],
   "source": [
    "df.describe().T"
   ],
   "metadata": {
    "collapsed": false
   },
   "id": "f9ab845fab3dbbae"
  },
  {
   "cell_type": "code",
   "outputs": [],
   "source": [
    "cols = df.columns[0:-1]\n",
    "for i in cols:\n",
    "    sns.boxplot(y=df[i])\n",
    "    plt.show()"
   ],
   "metadata": {
    "collapsed": false
   },
   "id": "27bb09d2a3c6eff0"
  },
  {
   "cell_type": "code",
   "outputs": [],
   "source": [
    "q1 = df['sepal width (cm)'].quantile(0.25)\n",
    "q3 = df['sepal width (cm)'].quantile(0.75)\n",
    "iqr = q3 - q1\n",
    "df = df[(df['sepal width (cm)'] >= q1-1.5*iqr) & (df['sepal width (cm)'] <= q3+1.5*iqr)]\n",
    "df.shape"
   ],
   "metadata": {
    "collapsed": false
   },
   "id": "c352d6c10be21c2a"
  },
  {
   "cell_type": "code",
   "outputs": [],
   "source": [
    "sns.heatmap(df.corr(), cmap=\"YlGnBu\", annot=True, fmt=\"f\")\n",
    "plt.show()"
   ],
   "metadata": {
    "collapsed": false
   },
   "id": "7a1bb0eef4e9ba85"
  },
  {
   "cell_type": "code",
   "outputs": [],
   "source": [
    "q1 = df['sepal width (cm)'].quantile(0.25)\n",
    "q3 = df['sepal width (cm)'].quantile(0.75)\n",
    "iqr = q3 - q1\n",
    "df = df[(df['sepal width (cm)'] >= q1-1.5*iqr) & (df['sepal width (cm)'] <= q3+1.5*iqr)]\n",
    "df.shape"
   ],
   "metadata": {
    "collapsed": false
   },
   "id": "a310cbaaffe09a6c"
  },
  {
   "cell_type": "code",
   "outputs": [],
   "source": [
    "X = df.drop(\"Species\",axis=1)\n",
    "y = df[\"Species\"]\n",
    "X_train,X_test,y_train,y_test=train_test_split(X,y,test_size=0.3, random_state= 1)"
   ],
   "metadata": {
    "collapsed": false
   },
   "id": "1c37d693648637e1"
  },
  {
   "cell_type": "code",
   "outputs": [],
   "source": [
    "dt = DecisionTreeClassifier(max_depth=3, min_samples_leaf=10, random_state=1 )\n",
    "dt.fit(X, y)"
   ],
   "metadata": {
    "collapsed": false
   },
   "id": "4a484ee6ff8928d5"
  },
  {
   "cell_type": "code",
   "outputs": [],
   "source": [
    "\n",
    "dt = DecisionTreeClassifier(random_state=1)\n",
    "dt.fit(X_train, y_train)\n",
    "\n",
    "y_pred_train = dt.predict(X_train)\n",
    "y_pred = dt.predict(X_test)\n",
    "y_prob = dt.predict_proba(X_test)"
   ],
   "metadata": {
    "collapsed": false
   },
   "id": "70a5ca0813dcd107"
  },
  {
   "cell_type": "code",
   "outputs": [],
   "source": [
    "sns.scatterplot(\n",
    "    data=DataFrame({'y_test': y_test, 'y_pred': y_pred}),\n",
    "    palette={'y_pred': 'blue', 'y_test': 'red'}\n",
    ")\n",
    "plt.show()"
   ],
   "metadata": {
    "collapsed": false
   },
   "id": "3317338160f15a26"
  },
  {
   "cell_type": "code",
   "outputs": [],
   "source": [
    "print('Accuracy of Decision Tree-Train: ', accuracy_score(y_pred_train, y_train))\n",
    "print('Accuracy of Decision Tree-Test: ', accuracy_score(y_pred, y_test))"
   ],
   "metadata": {
    "collapsed": false
   },
   "id": "2ff7e0059019c866"
  },
  {
   "cell_type": "code",
   "outputs": [],
   "source": [
    "print(classification_report(y_test, y_pred))"
   ],
   "metadata": {
    "collapsed": false
   },
   "id": "c95dc4c6d69a0f54"
  },
  {
   "cell_type": "code",
   "outputs": [],
   "source": [
    "plt.figure(figsize=(15,5))\n",
    "plot_tree(dt, filled=True, impurity=False)"
   ],
   "metadata": {
    "collapsed": false
   },
   "id": "128270b8c6920839"
  }
 ],
 "metadata": {
  "kernelspec": {
   "display_name": "Python 3",
   "language": "python",
   "name": "python3"
  },
  "language_info": {
   "codemirror_mode": {
    "name": "ipython",
    "version": 2
   },
   "file_extension": ".py",
   "mimetype": "text/x-python",
   "name": "python",
   "nbconvert_exporter": "python",
   "pygments_lexer": "ipython2",
   "version": "2.7.6"
  }
 },
 "nbformat": 4,
 "nbformat_minor": 5
}
