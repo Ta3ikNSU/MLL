{
 "cells": [
  {
   "cell_type": "markdown",
   "source": [
    "## Метод главных компонент (PCA)\n",
    "[Теория sklearn](https://scikit-learn.org/stable/modules/generated/sklearn.decomposition.PCA.html)\n",
    "\n",
    "[Теория Хабр](https://habr.com/ru/articles/304214/)\n",
    "\n",
    "[Теория ИТМО](https://neerc.ifmo.ru/wiki/index.php?title=Метод_главных_компонент_(PCA))\n",
    "\n",
    "[Теория GFG](https://www.geeksforgeeks.org/implementing-pca-in-python-with-scikit-learn/)\n",
    "\n",
    "[Датасет](https://www.kaggle.com/code/ryanholbrook/principal-component-analysis)\n"
   ],
   "metadata": {
    "collapsed": false
   },
   "id": "e22450b4fc43a43c"
  },
  {
   "cell_type": "code",
   "execution_count": null,
   "id": "initial_id",
   "metadata": {
    "collapsed": true
   },
   "outputs": [],
   "source": []
  }
 ],
 "metadata": {
  "kernelspec": {
   "display_name": "Python 3",
   "language": "python",
   "name": "python3"
  },
  "language_info": {
   "codemirror_mode": {
    "name": "ipython",
    "version": 2
   },
   "file_extension": ".py",
   "mimetype": "text/x-python",
   "name": "python",
   "nbconvert_exporter": "python",
   "pygments_lexer": "ipython2",
   "version": "2.7.6"
  }
 },
 "nbformat": 4,
 "nbformat_minor": 5
}
