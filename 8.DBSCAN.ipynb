{
 "cells": [
  {
   "cell_type": "markdown",
   "source": [
    "## 8.DBSCAN\n",
    "[Теория Хабр](https://habr.com/ru/articles/322034/)\n",
    "\n",
    "[Теория sklearn](https://scikit-learn.org/stable/modules/generated/sklearn.cluster.DBSCAN.html)\n",
    "\n",
    "[Датасет](https://www.kaggle.com/datasets/ankit8467/dataset-for-dbscan)\n"
   ],
   "metadata": {
    "collapsed": false
   },
   "id": "ee4a5f2ddcda06c0"
  },
  {
   "cell_type": "code",
   "execution_count": null,
   "id": "initial_id",
   "metadata": {
    "collapsed": true
   },
   "outputs": [],
   "source": []
  }
 ],
 "metadata": {
  "kernelspec": {
   "display_name": "Python 3",
   "language": "python",
   "name": "python3"
  },
  "language_info": {
   "codemirror_mode": {
    "name": "ipython",
    "version": 2
   },
   "file_extension": ".py",
   "mimetype": "text/x-python",
   "name": "python",
   "nbconvert_exporter": "python",
   "pygments_lexer": "ipython2",
   "version": "2.7.6"
  }
 },
 "nbformat": 4,
 "nbformat_minor": 5
}
